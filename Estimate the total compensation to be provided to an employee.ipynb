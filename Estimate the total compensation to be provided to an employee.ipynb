{
 "cells": [
  {
   "cell_type": "markdown",
   "id": "02f7c764",
   "metadata": {},
   "source": [
    "## Estimate the total compensation to be provided to an employee"
   ]
  },
  {
   "cell_type": "markdown",
   "id": "5042152a",
   "metadata": {},
   "source": [
    "Imagine you are working as a data scientist in a big organization which has thousands of employees. The HR department is planning to provide some additional compensation to each working employee which needs to be calculated by looking at the profile of each employee and the benefits they are getting. \n",
    "\n",
    "The HR department asks your help if you can use your data science and machine learning skills and calculate an estimated ‘Total Compensation’ for each employee.\n",
    "\n",
    "\n",
    "\n",
    "Data Description\n",
    "\n",
    "﻿OGC: Organization Group Code - Org Group is a group of Departments. For example, the Public Protection Org Group includes departments such as the Police, Fire, Adult Probation, District Attorney, and Sheriff.\n",
    "\n",
    "OG: Organization Group names\n",
    "\n",
    "DC: Department Code - Departments are the primary organizational unit used by the City and County of San Francisco. Examples include Recreation and Parks, Public Works, and the Police Department.\n",
    "\n",
    "Dept: Department name\n",
    "\n",
    "UC: Union Code - Unions represent employees in collective bargaining agreements. A job belongs to one union, although some jobs are unrepresented (usually temporarily).\n",
    "\n",
    "Union: Union names\n",
    "\n",
    "JF: Job Family - Job Family combines similar Jobs into meaningful groups.\n",
    "\n",
    "Job: Job name\n",
    "\n",
    "EI: Employee Identifier\n",
    "\n",
    "Salaries: Salary of the employee\n",
    "\n",
    "Overtime: Amounts paid to City employees working in excess of 40 hours per week. \n",
    "\n",
    "H/D: Health/Dental - City-paid premiums to health and dental insurance plans covering City employees. To protect confidentiality as legally required, pro-rated citywide averages are presented in lieu of employee-specific health and dental benefits. \n",
    "\n",
    "YT: Year Type - Fiscal (July through June) or Calendar (January through December)\n",
    "\n",
    "Total_Compensation: The final compensation i.e. the sum of all salaries and benefits paid to City employees.\n",
    "\n",
    "\n",
    "\n",
    "Dataset Link: https://drive.google.com/file/d/1mSkKEe0SUJ7AZHiubxKSke7HWf75JA_Z/view?usp=sharing\n",
    "\n"
   ]
  },
  {
   "cell_type": "code",
   "execution_count": 1,
   "id": "006f8c33",
   "metadata": {},
   "outputs": [],
   "source": [
    "import numpy as np\n",
    "import pandas as pd\n",
    "import matplotlib.pyplot as plt\n",
    "import seaborn as sns"
   ]
  },
  {
   "cell_type": "code",
   "execution_count": 3,
   "id": "96950bce",
   "metadata": {},
   "outputs": [],
   "source": [
    "df = pd.read_csv(r\"C:\\Users\\Windows 11\\Downloads\\train_set.csv\")"
   ]
  },
  {
   "cell_type": "code",
   "execution_count": 4,
   "id": "cbbe36aa",
   "metadata": {},
   "outputs": [
    {
     "data": {
      "text/html": [
       "<div>\n",
       "<style scoped>\n",
       "    .dataframe tbody tr th:only-of-type {\n",
       "        vertical-align: middle;\n",
       "    }\n",
       "\n",
       "    .dataframe tbody tr th {\n",
       "        vertical-align: top;\n",
       "    }\n",
       "\n",
       "    .dataframe thead th {\n",
       "        text-align: right;\n",
       "    }\n",
       "</style>\n",
       "<table border=\"1\" class=\"dataframe\">\n",
       "  <thead>\n",
       "    <tr style=\"text-align: right;\">\n",
       "      <th></th>\n",
       "      <th>Year</th>\n",
       "      <th>OGC</th>\n",
       "      <th>OG</th>\n",
       "      <th>DC</th>\n",
       "      <th>Dept</th>\n",
       "      <th>UC</th>\n",
       "      <th>Union</th>\n",
       "      <th>JF</th>\n",
       "      <th>Job</th>\n",
       "      <th>EI</th>\n",
       "      <th>Salaries</th>\n",
       "      <th>Overtime</th>\n",
       "      <th>H/D</th>\n",
       "      <th>YT</th>\n",
       "      <th>Total_Compensation</th>\n",
       "    </tr>\n",
       "  </thead>\n",
       "  <tbody>\n",
       "    <tr>\n",
       "      <th>0</th>\n",
       "      <td>2015</td>\n",
       "      <td>4</td>\n",
       "      <td>Community Health</td>\n",
       "      <td>DPH</td>\n",
       "      <td>Public Health</td>\n",
       "      <td>250</td>\n",
       "      <td>SEIU - Health Workers, Local 1021</td>\n",
       "      <td>Med Therapy &amp; Auxiliary</td>\n",
       "      <td>Morgue Attendant</td>\n",
       "      <td>6725</td>\n",
       "      <td>12196</td>\n",
       "      <td>0</td>\n",
       "      <td>0.00</td>\n",
       "      <td>Calendar</td>\n",
       "      <td>16158</td>\n",
       "    </tr>\n",
       "    <tr>\n",
       "      <th>1</th>\n",
       "      <td>2013</td>\n",
       "      <td>4</td>\n",
       "      <td>Community Health</td>\n",
       "      <td>DPH</td>\n",
       "      <td>Public Health</td>\n",
       "      <td>39</td>\n",
       "      <td>Stationary Engineers, Local 39</td>\n",
       "      <td>Journeyman Trade</td>\n",
       "      <td>Stationary Engineer</td>\n",
       "      <td>25058</td>\n",
       "      <td>74639</td>\n",
       "      <td>2820</td>\n",
       "      <td>12703.31</td>\n",
       "      <td>Fiscal</td>\n",
       "      <td>115784</td>\n",
       "    </tr>\n",
       "    <tr>\n",
       "      <th>2</th>\n",
       "      <td>2015</td>\n",
       "      <td>6</td>\n",
       "      <td>General Administration &amp; Finance</td>\n",
       "      <td>ASR</td>\n",
       "      <td>Assessor/Recorder</td>\n",
       "      <td>21</td>\n",
       "      <td>Prof &amp; Tech Engineers - Miscellaneous, Local 21</td>\n",
       "      <td>Appraisal &amp; Taxation</td>\n",
       "      <td>Senior Real Property Appraiser</td>\n",
       "      <td>46108</td>\n",
       "      <td>100554</td>\n",
       "      <td>0</td>\n",
       "      <td>12424.50</td>\n",
       "      <td>Calendar</td>\n",
       "      <td>144708</td>\n",
       "    </tr>\n",
       "    <tr>\n",
       "      <th>3</th>\n",
       "      <td>2016</td>\n",
       "      <td>1</td>\n",
       "      <td>Public Protection</td>\n",
       "      <td>POL</td>\n",
       "      <td>Police</td>\n",
       "      <td>911</td>\n",
       "      <td>Police Officers' Association</td>\n",
       "      <td>Police Services</td>\n",
       "      <td>Sergeant 3</td>\n",
       "      <td>33369</td>\n",
       "      <td>140164</td>\n",
       "      <td>52754</td>\n",
       "      <td>13043.87</td>\n",
       "      <td>Fiscal</td>\n",
       "      <td>242323</td>\n",
       "    </tr>\n",
       "    <tr>\n",
       "      <th>4</th>\n",
       "      <td>2013</td>\n",
       "      <td>2</td>\n",
       "      <td>Public Works, Transportation &amp; Commerce</td>\n",
       "      <td>HHP</td>\n",
       "      <td>PUC Hetch Hetchy</td>\n",
       "      <td>21</td>\n",
       "      <td>Prof &amp; Tech Engineers - Miscellaneous, Local 21</td>\n",
       "      <td>Information Systems</td>\n",
       "      <td>IS Engineer-Journey</td>\n",
       "      <td>28684</td>\n",
       "      <td>58813</td>\n",
       "      <td>0</td>\n",
       "      <td>7655.28</td>\n",
       "      <td>Calendar</td>\n",
       "      <td>82106</td>\n",
       "    </tr>\n",
       "  </tbody>\n",
       "</table>\n",
       "</div>"
      ],
      "text/plain": [
       "   Year  OGC                                       OG   DC               Dept  \\\n",
       "0  2015    4                         Community Health  DPH      Public Health   \n",
       "1  2013    4                         Community Health  DPH      Public Health   \n",
       "2  2015    6         General Administration & Finance  ASR  Assessor/Recorder   \n",
       "3  2016    1                        Public Protection  POL             Police   \n",
       "4  2013    2  Public Works, Transportation & Commerce  HHP   PUC Hetch Hetchy   \n",
       "\n",
       "    UC                                            Union  \\\n",
       "0  250                SEIU - Health Workers, Local 1021   \n",
       "1   39                   Stationary Engineers, Local 39   \n",
       "2   21  Prof & Tech Engineers - Miscellaneous, Local 21   \n",
       "3  911                     Police Officers' Association   \n",
       "4   21  Prof & Tech Engineers - Miscellaneous, Local 21   \n",
       "\n",
       "                        JF                             Job     EI  Salaries  \\\n",
       "0  Med Therapy & Auxiliary                Morgue Attendant   6725     12196   \n",
       "1         Journeyman Trade             Stationary Engineer  25058     74639   \n",
       "2     Appraisal & Taxation  Senior Real Property Appraiser  46108    100554   \n",
       "3          Police Services                      Sergeant 3  33369    140164   \n",
       "4      Information Systems             IS Engineer-Journey  28684     58813   \n",
       "\n",
       "   Overtime       H/D        YT  Total_Compensation  \n",
       "0         0      0.00  Calendar               16158  \n",
       "1      2820  12703.31    Fiscal              115784  \n",
       "2         0  12424.50  Calendar              144708  \n",
       "3     52754  13043.87    Fiscal              242323  \n",
       "4         0   7655.28  Calendar               82106  "
      ]
     },
     "execution_count": 4,
     "metadata": {},
     "output_type": "execute_result"
    }
   ],
   "source": [
    "df.head()"
   ]
  },
  {
   "cell_type": "code",
   "execution_count": 5,
   "id": "a3d0414d",
   "metadata": {},
   "outputs": [
    {
     "data": {
      "text/plain": [
       "(287836, 15)"
      ]
     },
     "execution_count": 5,
     "metadata": {},
     "output_type": "execute_result"
    }
   ],
   "source": [
    "df.shape"
   ]
  },
  {
   "cell_type": "code",
   "execution_count": 6,
   "id": "f8f15144",
   "metadata": {},
   "outputs": [
    {
     "name": "stdout",
     "output_type": "stream",
     "text": [
      "<class 'pandas.core.frame.DataFrame'>\n",
      "RangeIndex: 287836 entries, 0 to 287835\n",
      "Data columns (total 15 columns):\n",
      " #   Column              Non-Null Count   Dtype  \n",
      "---  ------              --------------   -----  \n",
      " 0   Year                287836 non-null  int64  \n",
      " 1   OGC                 287836 non-null  int64  \n",
      " 2   OG                  287836 non-null  object \n",
      " 3   DC                  287836 non-null  object \n",
      " 4   Dept                287836 non-null  object \n",
      " 5   UC                  287836 non-null  int64  \n",
      " 6   Union               287800 non-null  object \n",
      " 7   JF                  287798 non-null  object \n",
      " 8   Job                 287836 non-null  object \n",
      " 9   EI                  287836 non-null  int64  \n",
      " 10  Salaries            287836 non-null  int64  \n",
      " 11  Overtime            287836 non-null  int64  \n",
      " 12  H/D                 287836 non-null  float64\n",
      " 13  YT                  287836 non-null  object \n",
      " 14  Total_Compensation  287836 non-null  int64  \n",
      "dtypes: float64(1), int64(7), object(7)\n",
      "memory usage: 32.9+ MB\n"
     ]
    }
   ],
   "source": [
    "df.info()"
   ]
  },
  {
   "cell_type": "code",
   "execution_count": 18,
   "id": "b336aeab",
   "metadata": {},
   "outputs": [
    {
     "data": {
      "text/html": [
       "<div>\n",
       "<style scoped>\n",
       "    .dataframe tbody tr th:only-of-type {\n",
       "        vertical-align: middle;\n",
       "    }\n",
       "\n",
       "    .dataframe tbody tr th {\n",
       "        vertical-align: top;\n",
       "    }\n",
       "\n",
       "    .dataframe thead th {\n",
       "        text-align: right;\n",
       "    }\n",
       "</style>\n",
       "<table border=\"1\" class=\"dataframe\">\n",
       "  <thead>\n",
       "    <tr style=\"text-align: right;\">\n",
       "      <th></th>\n",
       "      <th>Year</th>\n",
       "      <th>OGC</th>\n",
       "      <th>UC</th>\n",
       "      <th>EI</th>\n",
       "      <th>Salaries</th>\n",
       "      <th>Overtime</th>\n",
       "      <th>H/D</th>\n",
       "      <th>Total_Compensation</th>\n",
       "    </tr>\n",
       "  </thead>\n",
       "  <tbody>\n",
       "    <tr>\n",
       "      <th>count</th>\n",
       "      <td>287836.000000</td>\n",
       "      <td>287836.000000</td>\n",
       "      <td>287836.000000</td>\n",
       "      <td>287836.000000</td>\n",
       "      <td>287836.000000</td>\n",
       "      <td>287836.000000</td>\n",
       "      <td>287836.000000</td>\n",
       "      <td>287836.000000</td>\n",
       "    </tr>\n",
       "    <tr>\n",
       "      <th>mean</th>\n",
       "      <td>2014.250104</td>\n",
       "      <td>2.976007</td>\n",
       "      <td>490.540186</td>\n",
       "      <td>26913.060020</td>\n",
       "      <td>63262.713139</td>\n",
       "      <td>4401.037115</td>\n",
       "      <td>8932.876472</td>\n",
       "      <td>97990.329882</td>\n",
       "    </tr>\n",
       "    <tr>\n",
       "      <th>std</th>\n",
       "      <td>1.016282</td>\n",
       "      <td>1.575586</td>\n",
       "      <td>333.238723</td>\n",
       "      <td>15539.719696</td>\n",
       "      <td>44638.657748</td>\n",
       "      <td>11079.137749</td>\n",
       "      <td>4894.072024</td>\n",
       "      <td>67750.020573</td>\n",
       "    </tr>\n",
       "    <tr>\n",
       "      <th>min</th>\n",
       "      <td>2013.000000</td>\n",
       "      <td>1.000000</td>\n",
       "      <td>1.000000</td>\n",
       "      <td>1.000000</td>\n",
       "      <td>-68771.000000</td>\n",
       "      <td>-12308.000000</td>\n",
       "      <td>-2940.470000</td>\n",
       "      <td>-74082.000000</td>\n",
       "    </tr>\n",
       "    <tr>\n",
       "      <th>25%</th>\n",
       "      <td>2013.000000</td>\n",
       "      <td>2.000000</td>\n",
       "      <td>236.000000</td>\n",
       "      <td>13434.000000</td>\n",
       "      <td>23406.000000</td>\n",
       "      <td>0.000000</td>\n",
       "      <td>4358.347500</td>\n",
       "      <td>35977.000000</td>\n",
       "    </tr>\n",
       "    <tr>\n",
       "      <th>50%</th>\n",
       "      <td>2014.000000</td>\n",
       "      <td>2.000000</td>\n",
       "      <td>535.000000</td>\n",
       "      <td>27013.000000</td>\n",
       "      <td>62504.500000</td>\n",
       "      <td>0.000000</td>\n",
       "      <td>11982.035000</td>\n",
       "      <td>98033.000000</td>\n",
       "    </tr>\n",
       "    <tr>\n",
       "      <th>75%</th>\n",
       "      <td>2015.000000</td>\n",
       "      <td>4.000000</td>\n",
       "      <td>790.000000</td>\n",
       "      <td>40397.250000</td>\n",
       "      <td>93000.250000</td>\n",
       "      <td>2738.000000</td>\n",
       "      <td>12801.790000</td>\n",
       "      <td>142138.250000</td>\n",
       "    </tr>\n",
       "    <tr>\n",
       "      <th>max</th>\n",
       "      <td>2016.000000</td>\n",
       "      <td>7.000000</td>\n",
       "      <td>990.000000</td>\n",
       "      <td>53794.000000</td>\n",
       "      <td>515101.000000</td>\n",
       "      <td>227313.000000</td>\n",
       "      <td>21872.800000</td>\n",
       "      <td>653498.000000</td>\n",
       "    </tr>\n",
       "  </tbody>\n",
       "</table>\n",
       "</div>"
      ],
      "text/plain": [
       "                Year            OGC             UC             EI  \\\n",
       "count  287836.000000  287836.000000  287836.000000  287836.000000   \n",
       "mean     2014.250104       2.976007     490.540186   26913.060020   \n",
       "std         1.016282       1.575586     333.238723   15539.719696   \n",
       "min      2013.000000       1.000000       1.000000       1.000000   \n",
       "25%      2013.000000       2.000000     236.000000   13434.000000   \n",
       "50%      2014.000000       2.000000     535.000000   27013.000000   \n",
       "75%      2015.000000       4.000000     790.000000   40397.250000   \n",
       "max      2016.000000       7.000000     990.000000   53794.000000   \n",
       "\n",
       "            Salaries       Overtime            H/D  Total_Compensation  \n",
       "count  287836.000000  287836.000000  287836.000000       287836.000000  \n",
       "mean    63262.713139    4401.037115    8932.876472        97990.329882  \n",
       "std     44638.657748   11079.137749    4894.072024        67750.020573  \n",
       "min    -68771.000000  -12308.000000   -2940.470000       -74082.000000  \n",
       "25%     23406.000000       0.000000    4358.347500        35977.000000  \n",
       "50%     62504.500000       0.000000   11982.035000        98033.000000  \n",
       "75%     93000.250000    2738.000000   12801.790000       142138.250000  \n",
       "max    515101.000000  227313.000000   21872.800000       653498.000000  "
      ]
     },
     "execution_count": 18,
     "metadata": {},
     "output_type": "execute_result"
    }
   ],
   "source": [
    "df.describe()"
   ]
  },
  {
   "cell_type": "code",
   "execution_count": 19,
   "id": "6a22ef5e",
   "metadata": {},
   "outputs": [],
   "source": [
    "df['Overtime'] = df['Overtime'].apply(lambda x: 0 if x<=0 else x)\n",
    "df['Salaries'] = df['Salaries'].apply(lambda x: 0 if x<=0 else x)\n",
    "df['H/D'] = df['H/D'].apply(lambda x: 0 if x<=0 else x)"
   ]
  },
  {
   "cell_type": "code",
   "execution_count": 20,
   "id": "9afe7c88",
   "metadata": {},
   "outputs": [
    {
     "data": {
      "text/plain": [
       "0         7\n",
       "1         9\n",
       "2         7\n",
       "3         6\n",
       "4         9\n",
       "         ..\n",
       "287831    6\n",
       "287832    7\n",
       "287833    8\n",
       "287834    9\n",
       "287835    7\n",
       "Name: Year, Length: 287836, dtype: int32"
      ]
     },
     "execution_count": 20,
     "metadata": {},
     "output_type": "execute_result"
    }
   ],
   "source": [
    "df.Year=df.Year.astype(int)\n",
    "df[\"Year\"]= 2022- df.Year\n",
    "df.Year"
   ]
  },
  {
   "cell_type": "code",
   "execution_count": 21,
   "id": "4541582c",
   "metadata": {},
   "outputs": [],
   "source": [
    "df = df.dropna()"
   ]
  },
  {
   "cell_type": "code",
   "execution_count": 22,
   "id": "395c2565",
   "metadata": {},
   "outputs": [],
   "source": [
    "df = df.select_dtypes(exclude=\"object\")"
   ]
  },
  {
   "cell_type": "code",
   "execution_count": 23,
   "id": "cac4442a",
   "metadata": {},
   "outputs": [
    {
     "data": {
      "text/html": [
       "<div>\n",
       "<style scoped>\n",
       "    .dataframe tbody tr th:only-of-type {\n",
       "        vertical-align: middle;\n",
       "    }\n",
       "\n",
       "    .dataframe tbody tr th {\n",
       "        vertical-align: top;\n",
       "    }\n",
       "\n",
       "    .dataframe thead th {\n",
       "        text-align: right;\n",
       "    }\n",
       "</style>\n",
       "<table border=\"1\" class=\"dataframe\">\n",
       "  <thead>\n",
       "    <tr style=\"text-align: right;\">\n",
       "      <th></th>\n",
       "      <th>Year</th>\n",
       "      <th>OGC</th>\n",
       "      <th>UC</th>\n",
       "      <th>EI</th>\n",
       "      <th>Salaries</th>\n",
       "      <th>Overtime</th>\n",
       "      <th>H/D</th>\n",
       "      <th>Total_Compensation</th>\n",
       "    </tr>\n",
       "  </thead>\n",
       "  <tbody>\n",
       "    <tr>\n",
       "      <th>0</th>\n",
       "      <td>7</td>\n",
       "      <td>4</td>\n",
       "      <td>250</td>\n",
       "      <td>6725</td>\n",
       "      <td>12196</td>\n",
       "      <td>0</td>\n",
       "      <td>0.00</td>\n",
       "      <td>16158</td>\n",
       "    </tr>\n",
       "    <tr>\n",
       "      <th>1</th>\n",
       "      <td>9</td>\n",
       "      <td>4</td>\n",
       "      <td>39</td>\n",
       "      <td>25058</td>\n",
       "      <td>74639</td>\n",
       "      <td>2820</td>\n",
       "      <td>12703.31</td>\n",
       "      <td>115784</td>\n",
       "    </tr>\n",
       "    <tr>\n",
       "      <th>2</th>\n",
       "      <td>7</td>\n",
       "      <td>6</td>\n",
       "      <td>21</td>\n",
       "      <td>46108</td>\n",
       "      <td>100554</td>\n",
       "      <td>0</td>\n",
       "      <td>12424.50</td>\n",
       "      <td>144708</td>\n",
       "    </tr>\n",
       "    <tr>\n",
       "      <th>3</th>\n",
       "      <td>6</td>\n",
       "      <td>1</td>\n",
       "      <td>911</td>\n",
       "      <td>33369</td>\n",
       "      <td>140164</td>\n",
       "      <td>52754</td>\n",
       "      <td>13043.87</td>\n",
       "      <td>242323</td>\n",
       "    </tr>\n",
       "    <tr>\n",
       "      <th>4</th>\n",
       "      <td>9</td>\n",
       "      <td>2</td>\n",
       "      <td>21</td>\n",
       "      <td>28684</td>\n",
       "      <td>58813</td>\n",
       "      <td>0</td>\n",
       "      <td>7655.28</td>\n",
       "      <td>82106</td>\n",
       "    </tr>\n",
       "  </tbody>\n",
       "</table>\n",
       "</div>"
      ],
      "text/plain": [
       "   Year  OGC   UC     EI  Salaries  Overtime       H/D  Total_Compensation\n",
       "0     7    4  250   6725     12196         0      0.00               16158\n",
       "1     9    4   39  25058     74639      2820  12703.31              115784\n",
       "2     7    6   21  46108    100554         0  12424.50              144708\n",
       "3     6    1  911  33369    140164     52754  13043.87              242323\n",
       "4     9    2   21  28684     58813         0   7655.28               82106"
      ]
     },
     "execution_count": 23,
     "metadata": {},
     "output_type": "execute_result"
    }
   ],
   "source": [
    "df.head()"
   ]
  },
  {
   "cell_type": "code",
   "execution_count": 24,
   "id": "aac24adb",
   "metadata": {},
   "outputs": [
    {
     "name": "stdout",
     "output_type": "stream",
     "text": [
      "number of unique values in Year 4\n",
      "number of unique values in OGC 7\n",
      "number of unique values in UC 789\n",
      "number of unique values in EI 52392\n",
      "number of unique values in Salaries 104375\n",
      "number of unique values in Overtime 33609\n",
      "number of unique values in H/D 113568\n",
      "number of unique values in Total_Compensation 155957\n"
     ]
    }
   ],
   "source": [
    "for i in df.columns:\n",
    "  print(\"number of unique values in\", i, df[i].nunique())"
   ]
  },
  {
   "cell_type": "code",
   "execution_count": 26,
   "id": "ba5fbd73",
   "metadata": {},
   "outputs": [
    {
     "data": {
      "text/plain": [
       "(287798, 8)"
      ]
     },
     "execution_count": 26,
     "metadata": {},
     "output_type": "execute_result"
    }
   ],
   "source": [
    "df.shape"
   ]
  },
  {
   "cell_type": "code",
   "execution_count": 27,
   "id": "6e80a71b",
   "metadata": {},
   "outputs": [
    {
     "data": {
      "image/png": "[encoded data removed]",
      "text/plain": [
       "<Figure size 432x288 with 1 Axes>"
      ]
     },
     "metadata": {
      "needs_background": "light"
     },
     "output_type": "display_data"
    },
    {
     "data": {
      "image/png": "[encoded data removed]",
      "text/plain": [
       "<Figure size 432x288 with 1 Axes>"
      ]
     },
     "metadata": {
      "needs_background": "light"
     },
     "output_type": "display_data"
    },
    {
     "data": {
      "image/png": "[encoded data removed]",
      "text/plain": [
       "<Figure size 432x288 with 1 Axes>"
      ]
     },
     "metadata": {
      "needs_background": "light"
     },
     "output_type": "display_data"
    },
    {
     "data": {
      "image/png": "[encoded data removed]",
      "text/plain": [
       "<Figure size 432x288 with 1 Axes>"
      ]
     },
     "metadata": {
      "needs_background": "light"
     },
     "output_type": "display_data"
    },
    {
     "data": {
      "image/png": "[encoded data removed]",
      "text/plain": [
       "<Figure size 432x288 with 1 Axes>"
      ]
     },
     "metadata": {
      "needs_background": "light"
     },
     "output_type": "display_data"
    },
    {
     "data": {
      "image/png": "[encoded data removed]",
      "text/plain": [
       "<Figure size 432x288 with 1 Axes>"
      ]
     },
     "metadata": {
      "needs_background": "light"
     },
     "output_type": "display_data"
    },
    {
     "data": {
      "image/png": "[encoded data removed]",
      "text/plain": [
       "<Figure size 432x288 with 1 Axes>"
      ]
     },
     "metadata": {
      "needs_background": "light"
     },
     "output_type": "display_data"
    },
    {
     "data": {
      "image/png": "[encoded data removed]",
      "text/plain": [
       "<Figure size 432x288 with 1 Axes>"
      ]
     },
     "metadata": {
      "needs_background": "light"
     },
     "output_type": "display_data"
    }
   ],
   "source": [
    "for i, col in enumerate(df.columns):\n",
    "    plt.figure(i)\n",
    "    sns.histplot(df[col])"
   ]
  },
  {
   "cell_type": "code",
   "execution_count": 30,
   "id": "38d81965",
   "metadata": {},
   "outputs": [
    {
     "data": {
      "image/png": "[encoded data removed]",
      "text/plain": [
       "<Figure size 432x288 with 2 Axes>"
      ]
     },
     "metadata": {
      "needs_background": "light"
     },
     "output_type": "display_data"
    }
   ],
   "source": [
    "x = sns.heatmap(df.corr())"
   ]
  },
  {
   "cell_type": "code",
   "execution_count": 33,
   "id": "ed8acf63",
   "metadata": {},
   "outputs": [],
   "source": [
    "x = df.drop([\"Total_Compensation\"],axis=1).values\n",
    "y = df.Total_Compensation.values"
   ]
  },
  {
   "cell_type": "code",
   "execution_count": 35,
   "id": "81768e94",
   "metadata": {},
   "outputs": [],
   "source": [
    "from sklearn.preprocessing import StandardScaler\n",
    "scaler = StandardScaler()\n",
    "x = scaler.fit_transform(x)"
   ]
  },
  {
   "cell_type": "code",
   "execution_count": 36,
   "id": "a1a895bd",
   "metadata": {},
   "outputs": [
    {
     "data": {
      "text/plain": [
       "array([[-0.73820615,  0.64998314, -0.72170644, ..., -1.14421463,\n",
       "        -0.39726578, -1.82562756],\n",
       "       [ 1.23001075,  0.64998314, -1.35487783, ...,  0.25471369,\n",
       "        -0.14274642,  0.77028808],\n",
       "       [-0.73820615,  1.91937014, -1.40889245, ...,  0.83529482,\n",
       "        -0.39726578,  0.71331338],\n",
       "       ...,\n",
       "       [ 0.2459023 , -0.61940385, -1.45390463, ...,  0.92260042,\n",
       "        -0.39726578,  0.84214351],\n",
       "       [ 1.23001075, -1.25409735, -0.72170644, ..., -1.09427771,\n",
       "        -0.39726578, -0.99762363],\n",
       "       [-0.73820615,  0.64998314,  0.90173299, ...,  0.94746806,\n",
       "         0.41006603, -0.19207976]])"
      ]
     },
     "execution_count": 36,
     "metadata": {},
     "output_type": "execute_result"
    }
   ],
   "source": [
    "x"
   ]
  },
  {
   "cell_type": "code",
   "execution_count": 37,
   "id": "8b3d62d0",
   "metadata": {},
   "outputs": [],
   "source": [
    "from sklearn.model_selection import train_test_split\n",
    "x_train, x_test, y_train, y_test = train_test_split(x,y,test_size=0.4,random_state=0)"
   ]
  },
  {
   "cell_type": "code",
   "execution_count": 38,
   "id": "21b820ca",
   "metadata": {},
   "outputs": [],
   "source": [
    "from sklearn.linear_model import LinearRegression\n",
    "lr = LinearRegression()"
   ]
  },
  {
   "cell_type": "code",
   "execution_count": 39,
   "id": "ce7f0160",
   "metadata": {},
   "outputs": [
    {
     "data": {
      "text/html": [
       "<style>#sk-container-id-1 {color: black;background-color: white;}#sk-container-id-1 pre{padding: 0;}#sk-container-id-1 div.sk-toggleable {background-color: white;}#sk-container-id-1 label.sk-toggleable__label {cursor: pointer;display: block;width: 100%;margin-bottom: 0;padding: 0.3em;box-sizing: border-box;text-align: center;}#sk-container-id-1 label.sk-toggleable__label-arrow:before {content: \"▸\";float: left;margin-right: 0.25em;color: #696969;}#sk-container-id-1 label.sk-toggleable__label-arrow:hover:before {color: black;}#sk-container-id-1 div.sk-estimator:hover label.sk-toggleable__label-arrow:before {color: black;}#sk-container-id-1 div.sk-toggleable__content {max-height: 0;max-width: 0;overflow: hidden;text-align: left;background-color: #f0f8ff;}#sk-container-id-1 div.sk-toggleable__content pre {margin: 0.2em;color: black;border-radius: 0.25em;background-color: #f0f8ff;}#sk-container-id-1 input.sk-toggleable__control:checked~div.sk-toggleable__content {max-height: 200px;max-width: 100%;overflow: auto;}#sk-container-id-1 input.sk-toggleable__control:checked~label.sk-toggleable__label-arrow:before {content: \"▾\";}#sk-container-id-1 div.sk-estimator input.sk-toggleable__control:checked~label.sk-toggleable__label {background-color: #d4ebff;}#sk-container-id-1 div.sk-label input.sk-toggleable__control:checked~label.sk-toggleable__label {background-color: #d4ebff;}#sk-container-id-1 input.sk-hidden--visually {border: 0;clip: rect(1px 1px 1px 1px);clip: rect(1px, 1px, 1px, 1px);height: 1px;margin: -1px;overflow: hidden;padding: 0;position: absolute;width: 1px;}#sk-container-id-1 div.sk-estimator {font-family: monospace;background-color: #f0f8ff;border: 1px dotted black;border-radius: 0.25em;box-sizing: border-box;margin-bottom: 0.5em;}#sk-container-id-1 div.sk-estimator:hover {background-color: #d4ebff;}#sk-container-id-1 div.sk-parallel-item::after {content: \"\";width: 100%;border-bottom: 1px solid gray;flex-grow: 1;}#sk-container-id-1 div.sk-label:hover label.sk-toggleable__label {background-color: #d4ebff;}#sk-container-id-1 div.sk-serial::before {content: \"\";position: absolute;border-left: 1px solid gray;box-sizing: border-box;top: 0;bottom: 0;left: 50%;z-index: 0;}#sk-container-id-1 div.sk-serial {display: flex;flex-direction: column;align-items: center;background-color: white;padding-right: 0.2em;padding-left: 0.2em;position: relative;}#sk-container-id-1 div.sk-item {position: relative;z-index: 1;}#sk-container-id-1 div.sk-parallel {display: flex;align-items: stretch;justify-content: center;background-color: white;position: relative;}#sk-container-id-1 div.sk-item::before, #sk-container-id-1 div.sk-parallel-item::before {content: \"\";position: absolute;border-left: 1px solid gray;box-sizing: border-box;top: 0;bottom: 0;left: 50%;z-index: -1;}#sk-container-id-1 div.sk-parallel-item {display: flex;flex-direction: column;z-index: 1;position: relative;background-color: white;}#sk-container-id-1 div.sk-parallel-item:first-child::after {align-self: flex-end;width: 50%;}#sk-container-id-1 div.sk-parallel-item:last-child::after {align-self: flex-start;width: 50%;}#sk-container-id-1 div.sk-parallel-item:only-child::after {width: 0;}#sk-container-id-1 div.sk-dashed-wrapped {border: 1px dashed gray;margin: 0 0.4em 0.5em 0.4em;box-sizing: border-box;padding-bottom: 0.4em;background-color: white;}#sk-container-id-1 div.sk-label label {font-family: monospace;font-weight: bold;display: inline-block;line-height: 1.2em;}#sk-container-id-1 div.sk-label-container {text-align: center;}#sk-container-id-1 div.sk-container {/* jupyter's `normalize.less` sets `[hidden] { display: none; }` but bootstrap.min.css set `[hidden] { display: none !important; }` so we also need the `!important` here to be able to override the default hidden behavior on the sphinx rendered scikit-learn.org. See: https://github.com/scikit-learn/scikit-learn/issues/21755 */display: inline-block !important;position: relative;}#sk-container-id-1 div.sk-text-repr-fallback {display: none;}</style><div id=\"sk-container-id-1\" class=\"sk-top-container\"><div class=\"sk-text-repr-fallback\"><pre>LinearRegression()</pre><b>In a Jupyter environment, please rerun this cell to show the HTML representation or trust the notebook. <br />On GitHub, the HTML representation is unable to render, please try loading this page with nbviewer.org.</b></div><div class=\"sk-container\" hidden><div class=\"sk-item\"><div class=\"sk-estimator sk-toggleable\"><input class=\"sk-toggleable__control sk-hidden--visually\" id=\"sk-estimator-id-1\" type=\"checkbox\" checked><label for=\"sk-estimator-id-1\" class=\"sk-toggleable__label sk-toggleable__label-arrow\">LinearRegression</label><div class=\"sk-toggleable__content\"><pre>LinearRegression()</pre></div></div></div></div></div>"
      ],
      "text/plain": [
       "LinearRegression()"
      ]
     },
     "execution_count": 39,
     "metadata": {},
     "output_type": "execute_result"
    }
   ],
   "source": [
    "lr.fit(x_train,y_train)"
   ]
  },
  {
   "cell_type": "markdown",
   "id": "836e3d2f",
   "metadata": {},
   "source": [
    "### Model Evaluation"
   ]
  },
  {
   "cell_type": "code",
   "execution_count": 40,
   "id": "8f7cd529",
   "metadata": {},
   "outputs": [
    {
     "name": "stdout",
     "output_type": "stream",
     "text": [
      "97997.15178729968\n"
     ]
    }
   ],
   "source": [
    "print(lr.intercept_)"
   ]
  },
  {
   "cell_type": "code",
   "execution_count": 43,
   "id": "a0bd50a1",
   "metadata": {},
   "outputs": [],
   "source": [
    "a = df.drop([\"Total_Compensation\"],axis=1).columns"
   ]
  },
  {
   "cell_type": "code",
   "execution_count": 44,
   "id": "48651c75",
   "metadata": {},
   "outputs": [
    {
     "data": {
      "text/html": [
       "<div>\n",
       "<style scoped>\n",
       "    .dataframe tbody tr th:only-of-type {\n",
       "        vertical-align: middle;\n",
       "    }\n",
       "\n",
       "    .dataframe tbody tr th {\n",
       "        vertical-align: top;\n",
       "    }\n",
       "\n",
       "    .dataframe thead th {\n",
       "        text-align: right;\n",
       "    }\n",
       "</style>\n",
       "<table border=\"1\" class=\"dataframe\">\n",
       "  <thead>\n",
       "    <tr style=\"text-align: right;\">\n",
       "      <th></th>\n",
       "      <th>Coefficient</th>\n",
       "    </tr>\n",
       "  </thead>\n",
       "  <tbody>\n",
       "    <tr>\n",
       "      <th>Year</th>\n",
       "      <td>-28.606190</td>\n",
       "    </tr>\n",
       "    <tr>\n",
       "      <th>OGC</th>\n",
       "      <td>-403.333147</td>\n",
       "    </tr>\n",
       "    <tr>\n",
       "      <th>UC</th>\n",
       "      <td>169.275868</td>\n",
       "    </tr>\n",
       "    <tr>\n",
       "      <th>EI</th>\n",
       "      <td>33.169486</td>\n",
       "    </tr>\n",
       "    <tr>\n",
       "      <th>Salaries</th>\n",
       "      <td>57977.467324</td>\n",
       "    </tr>\n",
       "    <tr>\n",
       "      <th>Overtime</th>\n",
       "      <td>13118.698743</td>\n",
       "    </tr>\n",
       "    <tr>\n",
       "      <th>H/D</th>\n",
       "      <td>5503.564323</td>\n",
       "    </tr>\n",
       "  </tbody>\n",
       "</table>\n",
       "</div>"
      ],
      "text/plain": [
       "           Coefficient\n",
       "Year        -28.606190\n",
       "OGC        -403.333147\n",
       "UC          169.275868\n",
       "EI           33.169486\n",
       "Salaries  57977.467324\n",
       "Overtime  13118.698743\n",
       "H/D        5503.564323"
      ]
     },
     "execution_count": 44,
     "metadata": {},
     "output_type": "execute_result"
    }
   ],
   "source": [
    "coeff_df = pd.DataFrame(lr.coef_,a,columns=['Coefficient'])\n",
    "coeff_df"
   ]
  },
  {
   "cell_type": "markdown",
   "id": "f88deb14",
   "metadata": {},
   "source": [
    "### Predictions from Model"
   ]
  },
  {
   "cell_type": "code",
   "execution_count": 46,
   "id": "758ef931",
   "metadata": {},
   "outputs": [],
   "source": [
    "y_pred = lr.predict(x_test)"
   ]
  },
  {
   "cell_type": "code",
   "execution_count": 47,
   "id": "9a68c1fb",
   "metadata": {},
   "outputs": [
    {
     "data": {
      "text/plain": [
       "<matplotlib.collections.PathCollection at 0x22a5be028f0>"
      ]
     },
     "execution_count": 47,
     "metadata": {},
     "output_type": "execute_result"
    },
    {
     "data": {
      "image/png": "[encoded data removed]",
      "text/plain": [
       "<Figure size 432x288 with 1 Axes>"
      ]
     },
     "metadata": {
      "needs_background": "light"
     },
     "output_type": "display_data"
    }
   ],
   "source": [
    "plt.scatter(y_test,y_pred,)"
   ]
  },
  {
   "cell_type": "code",
   "execution_count": 48,
   "id": "cfef82f8",
   "metadata": {},
   "outputs": [
    {
     "name": "stderr",
     "output_type": "stream",
     "text": [
      "C:\\Python310\\lib\\site-packages\\seaborn\\distributions.py:2619: FutureWarning: `distplot` is a deprecated function and will be removed in a future version. Please adapt your code to use either `displot` (a figure-level function with similar flexibility) or `histplot` (an axes-level function for histograms).\n",
      "  warnings.warn(msg, FutureWarning)\n"
     ]
    },
    {
     "data": {
      "text/plain": [
       "<AxesSubplot:ylabel='Density'>"
      ]
     },
     "execution_count": 48,
     "metadata": {},
     "output_type": "execute_result"
    },
    {
     "data": {
      "image/png": "[encoded data removed]",
      "text/plain": [
       "<Figure size 432x288 with 1 Axes>"
      ]
     },
     "metadata": {
      "needs_background": "light"
     },
     "output_type": "display_data"
    }
   ],
   "source": [
    "sns.distplot((y_test-y_pred),bins=60)"
   ]
  },
  {
   "cell_type": "code",
   "execution_count": 49,
   "id": "06c0cbb9",
   "metadata": {},
   "outputs": [],
   "source": [
    "from sklearn import metrics"
   ]
  },
  {
   "cell_type": "code",
   "execution_count": 50,
   "id": "9f88bdfb",
   "metadata": {},
   "outputs": [
    {
     "name": "stdout",
     "output_type": "stream",
     "text": [
      "MAE: 4112.203854848423\n",
      "MSE: 58760731.74154494\n",
      "RMSE: 7665.5548880394135\n"
     ]
    }
   ],
   "source": [
    "print('MAE:', metrics.mean_absolute_error(y_test, y_pred))\n",
    "print('MSE:', metrics.mean_squared_error(y_test, y_pred))\n",
    "print('RMSE:', np.sqrt(metrics.mean_squared_error(y_test, y_pred)))"
   ]
  },
  {
   "cell_type": "code",
   "execution_count": 53,
   "id": "9892db05",
   "metadata": {},
   "outputs": [
    {
     "data": {
      "text/plain": [
       "0.9871250616820744"
      ]
     },
     "execution_count": 53,
     "metadata": {},
     "output_type": "execute_result"
    }
   ],
   "source": [
    "lr.score(x_test,y_test)"
   ]
  },
  {
   "cell_type": "code",
   "execution_count": null,
   "id": "25b5197c",
   "metadata": {},
   "outputs": [],
   "source": []
  }
 ],
 "metadata": {
  "kernelspec": {
   "display_name": "Python 3 (ipykernel)",
   "language": "python",
   "name": "python3"
  },
  "language_info": {
   "codemirror_mode": {
    "name": "ipython",
    "version": 3
   },
   "file_extension": ".py",
   "mimetype": "text/x-python",
   "name": "python",
   "nbconvert_exporter": "python",
   "pygments_lexer": "ipython3",
   "version": "3.10.4"
  }
 },
 "nbformat": 4,
 "nbformat_minor": 5
}
